{
 "cells": [
  {
   "cell_type": "code",
   "execution_count": 2,
   "id": "2f92f2e7",
   "metadata": {},
   "outputs": [],
   "source": [
    "import matplotlib.pyplot as plt\n",
    "import seaborn as sns\n",
    "import pandas as pd\n",
    "import numpy as np\n",
    "import scipy.stats as stats\n",
    "%matplotlib inline\n",
    "import matplotlib.pyplot as plt \n",
    "import seaborn as sns\n",
    "import statsmodels.api as sm\n",
    "import statsmodels.stats as sm_stats\n",
    "import statsmodels.stats.api as sms"
   ]
  },
  {
   "cell_type": "code",
   "execution_count": 3,
   "id": "f24bcc99",
   "metadata": {},
   "outputs": [
    {
     "data": {
      "text/html": [
       "<div>\n",
       "<style scoped>\n",
       "    .dataframe tbody tr th:only-of-type {\n",
       "        vertical-align: middle;\n",
       "    }\n",
       "\n",
       "    .dataframe tbody tr th {\n",
       "        vertical-align: top;\n",
       "    }\n",
       "\n",
       "    .dataframe thead th {\n",
       "        text-align: right;\n",
       "    }\n",
       "</style>\n",
       "<table border=\"1\" class=\"dataframe\">\n",
       "  <thead>\n",
       "    <tr style=\"text-align: right;\">\n",
       "      <th></th>\n",
       "      <th>blood_group</th>\n",
       "      <th>name</th>\n",
       "      <th>race</th>\n",
       "      <th>job</th>\n",
       "      <th>residence</th>\n",
       "      <th>birthdate</th>\n",
       "      <th>current_location</th>\n",
       "      <th>ssn</th>\n",
       "      <th>sex</th>\n",
       "    </tr>\n",
       "  </thead>\n",
       "  <tbody>\n",
       "    <tr>\n",
       "      <th>0</th>\n",
       "      <td>A+</td>\n",
       "      <td>Robert Johnson</td>\n",
       "      <td>White</td>\n",
       "      <td>Chartered management accountant</td>\n",
       "      <td>046 Henderson Place\\nNorth Kenneth, LA 18909</td>\n",
       "      <td>1992/06/21</td>\n",
       "      <td>(Decimal('-74.632626'), Decimal('61.437006'))</td>\n",
       "      <td>111-66-4780</td>\n",
       "      <td>M</td>\n",
       "    </tr>\n",
       "    <tr>\n",
       "      <th>1</th>\n",
       "      <td>O-</td>\n",
       "      <td>Billy Brown</td>\n",
       "      <td>Hawaiian</td>\n",
       "      <td>Designer, furniture</td>\n",
       "      <td>5168 Craig Crossing\\nNorth Danielbury, OK 44116</td>\n",
       "      <td>21 Aug 2012</td>\n",
       "      <td>(Decimal('44.5509005'), Decimal('159.093037'))</td>\n",
       "      <td>715-26-6538</td>\n",
       "      <td>M</td>\n",
       "    </tr>\n",
       "    <tr>\n",
       "      <th>2</th>\n",
       "      <td>B+</td>\n",
       "      <td>William Evans</td>\n",
       "      <td>White</td>\n",
       "      <td>Occupational psychologist</td>\n",
       "      <td>1102 Crystal Path\\nPort Janiceberg, VA 52575</td>\n",
       "      <td>03 Apr 2009</td>\n",
       "      <td>(Decimal('-42.592953'), Decimal('9.116989'))</td>\n",
       "      <td>880-21-4333</td>\n",
       "      <td>M</td>\n",
       "    </tr>\n",
       "    <tr>\n",
       "      <th>3</th>\n",
       "      <td>AB+</td>\n",
       "      <td>Mark Anderson</td>\n",
       "      <td>White</td>\n",
       "      <td>Leisure centre manager</td>\n",
       "      <td>0345 Christensen Burg\\nEast Angelaburgh, MN 32243</td>\n",
       "      <td>1968/10/14</td>\n",
       "      <td>(Decimal('-72.110798'), Decimal('37.607451'))</td>\n",
       "      <td>452-97-8425</td>\n",
       "      <td>M</td>\n",
       "    </tr>\n",
       "    <tr>\n",
       "      <th>4</th>\n",
       "      <td>O+</td>\n",
       "      <td>Ashley Archer</td>\n",
       "      <td>Indian</td>\n",
       "      <td>Animal technologist</td>\n",
       "      <td>351 Margaret Hollow Suite 435\\nLake John, TX 9...</td>\n",
       "      <td>01 Jul 1950</td>\n",
       "      <td>(Decimal('-82.533703'), Decimal('126.463182'))</td>\n",
       "      <td>084-71-0177</td>\n",
       "      <td>F</td>\n",
       "    </tr>\n",
       "  </tbody>\n",
       "</table>\n",
       "</div>"
      ],
      "text/plain": [
       "  blood_group            name      race                              job  \\\n",
       "0          A+  Robert Johnson     White  Chartered management accountant   \n",
       "1          O-     Billy Brown  Hawaiian              Designer, furniture   \n",
       "2          B+   William Evans     White        Occupational psychologist   \n",
       "3         AB+   Mark Anderson     White           Leisure centre manager   \n",
       "4          O+   Ashley Archer    Indian              Animal technologist   \n",
       "\n",
       "                                           residence    birthdate  \\\n",
       "0       046 Henderson Place\\nNorth Kenneth, LA 18909   1992/06/21   \n",
       "1    5168 Craig Crossing\\nNorth Danielbury, OK 44116  21 Aug 2012   \n",
       "2       1102 Crystal Path\\nPort Janiceberg, VA 52575  03 Apr 2009   \n",
       "3  0345 Christensen Burg\\nEast Angelaburgh, MN 32243   1968/10/14   \n",
       "4  351 Margaret Hollow Suite 435\\nLake John, TX 9...  01 Jul 1950   \n",
       "\n",
       "                                 current_location          ssn sex  \n",
       "0   (Decimal('-74.632626'), Decimal('61.437006'))  111-66-4780   M  \n",
       "1  (Decimal('44.5509005'), Decimal('159.093037'))  715-26-6538   M  \n",
       "2    (Decimal('-42.592953'), Decimal('9.116989'))  880-21-4333   M  \n",
       "3   (Decimal('-72.110798'), Decimal('37.607451'))  452-97-8425   M  \n",
       "4  (Decimal('-82.533703'), Decimal('126.463182'))  084-71-0177   F  "
      ]
     },
     "execution_count": 3,
     "metadata": {},
     "output_type": "execute_result"
    }
   ],
   "source": [
    "#Percentuálny podiel: Yuová 50%, Rafaj 50%\n",
    "# Bod 1\n",
    "# načítanie datasetv zo súborov\n",
    "profiles_filename = \"profiles.csv\"\n",
    "labor_filename = \"labor.csv\"\n",
    "\n",
    "df_profiles = pd.read_csv(profiles_filename, sep='\\t', index_col=0)\n",
    "df_labor = pd.read_csv(labor_filename, sep='\\t', index_col=0)\n",
    "\n",
    "df_labor.head()      #cela tabulka\n",
    "df_profiles.head()"
   ]
  },
  {
   "cell_type": "code",
   "execution_count": 4,
   "id": "a9ca06ab",
   "metadata": {},
   "outputs": [
    {
     "data": {
      "text/plain": [
       "hbver            9997\n",
       "ssn             10028\n",
       "er-cv            9996\n",
       "hematokrit       9998\n",
       "etytr            9997\n",
       "indicator       10028\n",
       "name            10028\n",
       "leukocyty        9998\n",
       "erytrocyty       9997\n",
       "smoker          10028\n",
       "weight          10028\n",
       "trombocyty       9997\n",
       "relationship    10028\n",
       "hemoglobin       9998\n",
       "alt              9997\n",
       "ast              9998\n",
       "alp              9998\n",
       "dtype: int64"
      ]
     },
     "execution_count": 4,
     "metadata": {},
     "output_type": "execute_result"
    }
   ],
   "source": [
    "# Bod 1\n",
    "# počet záznamov\n",
    "df_profiles.count()\n",
    "df_labor.count()       "
   ]
  },
  {
   "cell_type": "code",
   "execution_count": 5,
   "id": "d829412e",
   "metadata": {},
   "outputs": [
    {
     "data": {
      "text/plain": [
       "17"
      ]
     },
     "execution_count": 5,
     "metadata": {},
     "output_type": "execute_result"
    }
   ],
   "source": [
    "# Bod 1\n",
    "# počet atribútov\n",
    "df_profiles.shape[1] \n",
    "df_labor.shape[1]       "
   ]
  },
  {
   "cell_type": "code",
   "execution_count": 6,
   "id": "cbfb22a2",
   "metadata": {},
   "outputs": [
    {
     "data": {
      "text/plain": [
       "hbver           float64\n",
       "ssn              object\n",
       "er-cv           float64\n",
       "hematokrit      float64\n",
       "etytr           float64\n",
       "indicator       float64\n",
       "name             object\n",
       "leukocyty       float64\n",
       "erytrocyty      float64\n",
       "smoker           object\n",
       "weight          float64\n",
       "trombocyty      float64\n",
       "relationship     object\n",
       "hemoglobin      float64\n",
       "alt             float64\n",
       "ast             float64\n",
       "alp             float64\n",
       "dtype: object"
      ]
     },
     "execution_count": 6,
     "metadata": {},
     "output_type": "execute_result"
    }
   ],
   "source": [
    "# Bod 1\n",
    "# ich typy\n",
    "df_profiles.dtypes\n",
    "df_labor.dtypes    "
   ]
  },
  {
   "cell_type": "code",
   "execution_count": 7,
   "id": "95177091",
   "metadata": {},
   "outputs": [
    {
     "data": {
      "text/plain": [
       "blood_group         0\n",
       "name                0\n",
       "race                0\n",
       "job                 0\n",
       "residence           0\n",
       "birthdate           0\n",
       "current_location    0\n",
       "ssn                 0\n",
       "sex                 0\n",
       "dtype: int64"
      ]
     },
     "execution_count": 7,
     "metadata": {},
     "output_type": "execute_result"
    }
   ],
   "source": [
    "# Bod 1\n",
    "# nájdenie nulových riadkov\n",
    "df_labor.isnull().sum()               #koľko je null pod%la atribútov\n",
    "df_labor.isnull().sum().sum()         #koľko je null celkovo\n",
    "df_labor[df_labor.isnull().any(axis=1)]  #zobraz riadky s 1 a viac null hodnotami\n",
    "\n",
    "df_profiles.isnull().sum()            #pre dataset profiles je to 0    "
   ]
  },
  {
   "cell_type": "code",
   "execution_count": 8,
   "id": "df3cdb4f",
   "metadata": {},
   "outputs": [
    {
     "name": "stdout",
     "output_type": "stream",
     "text": [
      "<class 'pandas.core.frame.DataFrame'>\n",
      "Int64Index: 10028 entries, 0 to 10027\n",
      "Data columns (total 17 columns):\n",
      " #   Column        Non-Null Count  Dtype  \n",
      "---  ------        --------------  -----  \n",
      " 0   hbver         9997 non-null   float64\n",
      " 1   ssn           10028 non-null  object \n",
      " 2   er-cv         9996 non-null   float64\n",
      " 3   hematokrit    9998 non-null   float64\n",
      " 4   etytr         9997 non-null   float64\n",
      " 5   indicator     10028 non-null  float64\n",
      " 6   name          10028 non-null  object \n",
      " 7   leukocyty     9998 non-null   float64\n",
      " 8   erytrocyty    9997 non-null   float64\n",
      " 9   smoker        10028 non-null  object \n",
      " 10  weight        10028 non-null  float64\n",
      " 11  trombocyty    9997 non-null   float64\n",
      " 12  relationship  10028 non-null  object \n",
      " 13  hemoglobin    9998 non-null   float64\n",
      " 14  alt           9997 non-null   float64\n",
      " 15  ast           9998 non-null   float64\n",
      " 16  alp           9998 non-null   float64\n",
      "dtypes: float64(13), object(4)\n",
      "memory usage: 1.4+ MB\n"
     ]
    },
    {
     "data": {
      "text/plain": [
       "1.516792117231509"
      ]
     },
     "execution_count": 8,
     "metadata": {},
     "output_type": "execute_result"
    }
   ],
   "source": [
    "# Bod 1\n",
    "# základné deskriptívne štatistiky pre dataset labor\n",
    "df_labor.shape        #prvý údaj = riadky, druhý údaj = stĺpce\n",
    "\n",
    "df_labor.info()\n",
    "\n",
    "df_labor.describe()\n",
    "\n",
    "df_labor.relationship.unique()\n",
    "df_labor['relationship'].unique()\n",
    "df_labor.groupby('relationship').size()\n",
    "df_labor['smoker'].unique()\n",
    "df_labor.groupby('smoker').size()\n",
    "\n",
    "df_labor.indicator.unique()\n",
    "df_labor.groupby('indicator').size()\n",
    "\n",
    "df_labor['weight'].mean()\n",
    "df_labor['hematokrit'].mean()\n",
    "df_labor['erytrocyty'].median()\n",
    "df_labor['trombocyty'].median()\n",
    "\n",
    "stats.mode(df_labor['hematokrit'])\n",
    "\n",
    "np.var(df_labor['trombocyty'])\n",
    "np.std(df_labor['erytrocyty'])"
   ]
  },
  {
   "cell_type": "code",
   "execution_count": 9,
   "id": "08cbea6d",
   "metadata": {},
   "outputs": [
    {
     "name": "stdout",
     "output_type": "stream",
     "text": [
      "<class 'pandas.core.frame.DataFrame'>\n",
      "Int64Index: 3071 entries, 0 to 3070\n",
      "Data columns (total 9 columns):\n",
      " #   Column            Non-Null Count  Dtype \n",
      "---  ------            --------------  ----- \n",
      " 0   blood_group       3071 non-null   object\n",
      " 1   name              3071 non-null   object\n",
      " 2   race              3071 non-null   object\n",
      " 3   job               3071 non-null   object\n",
      " 4   residence         3071 non-null   object\n",
      " 5   birthdate         3071 non-null   object\n",
      " 6   current_location  3071 non-null   object\n",
      " 7   ssn               3071 non-null   object\n",
      " 8   sex               3071 non-null   object\n",
      "dtypes: object(9)\n",
      "memory usage: 239.9+ KB\n"
     ]
    },
    {
     "data": {
      "text/plain": [
       "blood_group\n",
       "A+     424\n",
       "A-     352\n",
       "AB+    390\n",
       "AB-    410\n",
       "B+     351\n",
       "B-     404\n",
       "O+     369\n",
       "O-     371\n",
       "dtype: int64"
      ]
     },
     "execution_count": 9,
     "metadata": {},
     "output_type": "execute_result"
    }
   ],
   "source": [
    "# Bod 1\n",
    "# základné deskriptívne štatistiky pre dataset profiles\n",
    "df_profiles.shape \n",
    "\n",
    "df_profiles.info()\n",
    "\n",
    "df_profiles.describe()\n",
    "\n",
    "df_profiles.race.unique()\n",
    "df_profiles.blood_group.unique()\n",
    "df_profiles.sex.unique()\n",
    "\n",
    "\n",
    "df_profiles.groupby('sex').size()\n",
    "df_profiles.groupby('blood_group').size()"
   ]
  },
  {
   "cell_type": "code",
   "execution_count": 10,
   "id": "256cc858",
   "metadata": {},
   "outputs": [
    {
     "data": {
      "text/plain": [
       "<AxesSubplot:>"
      ]
     },
     "execution_count": 10,
     "metadata": {},
     "output_type": "execute_result"
    },
    {
     "data": {
      "image/png": "[encoded data removed]",
      "text/plain": [
       "<Figure size 720x576 with 2 Axes>"
      ]
     },
     "metadata": {
      "needs_background": "light"
     },
     "output_type": "display_data"
    }
   ],
   "source": [
    "# Bod 2\n",
    "# vzťahy medzi dvojicami atribútov\n",
    "# pomocou heat mapy sme našli korelácie medzi atribútmi\n",
    "# ak je to 1, tak sú rovnaké\n",
    "# čím je číslo bližšie k 0, tým menej spolu súvisia\n",
    "fig, ax = plt.subplots(figsize=(10,8))\n",
    "sns.heatmap(df_labor.corr(), ax=ax, annot=True, fmt=\".3f\")"
   ]
  },
  {
   "cell_type": "code",
   "execution_count": null,
   "id": "48d10b67",
   "metadata": {},
   "outputs": [
    {
     "data": {
      "text/plain": [
       "<AxesSubplot:xlabel='hemoglobin', ylabel='alp'>"
      ]
     },
     "execution_count": 36,
     "metadata": {},
     "output_type": "execute_result"
    }
   ],
   "source": [
    "# Bod 2\n",
    "# z prechádzajúceho grafu sme zistili, že spolu súvisia hemoglobín a alp\n",
    "# hemoglobín a alp spolu korelujú, s meniacim sa hemoglobínom sa mení aj alp (hodnota je 0,667)\n",
    "sns.boxplot(data=df_labor,x=\"hemoglobin\", y=\"alp\")"
   ]
  },
  {
   "cell_type": "code",
   "execution_count": 37,
   "id": "024a99a7",
   "metadata": {},
   "outputs": [],
   "source": [
    "# Bod 2\n",
    "# hemoglobín a alt spolu nekorelujú (hodnota je 0,001)\n",
    "sns.boxplot(data=df_labor,x=\"hemoglobin\", y=\"alt\")"
   ]
  },
  {
   "cell_type": "code",
   "execution_count": null,
   "id": "5bd7677d",
   "metadata": {},
   "outputs": [],
   "source": [
    "# Bod 2\n",
    "# ľudia s indikátorom 1 majú vyššie erytrocyty, váha ostáva rovnaká\n",
    "sns.relplot(data=df_labor,x=\"erytrocyty\", y=\"weight\", col=\"indicator\",)"
   ]
  },
  {
   "cell_type": "code",
   "execution_count": null,
   "id": "b8115c5e",
   "metadata": {},
   "outputs": [],
   "source": [
    "# Bod 2\n",
    "# ľudia s indikátorom 0 majú v priemere vyššie trombocyty, málokedy pod 5, pričom u 1 je bežne od 2.5 do 8.5 (viď graf)\n",
    "# hemoglobín ostáva rovnaký\n",
    "sns.relplot(data=df_labor,x=\"trombocyty\", y=\"hemoglobin\", col=\"indicator\",)"
   ]
  },
  {
   "cell_type": "code",
   "execution_count": null,
   "id": "baed09bc",
   "metadata": {},
   "outputs": [],
   "source": [
    "# Bod 3 - 1. hypotéza \n",
    "# erytrocyty pri indikátore 1 sú vyššie ako pri indikátore 0\n",
    "sns.boxplot(data=df_labor,x=\"indicator\", y=\"erytrocyty\")"
   ]
  },
  {
   "cell_type": "code",
   "execution_count": null,
   "id": "4447afa5",
   "metadata": {},
   "outputs": [],
   "source": [
    "# Bod 3 - 2. hypotéza \n",
    "# trombocyty pri indikátore 0 sú vyššie ako pri indikátore 1\n",
    "sns.boxplot(data=df_labor,x=\"indicator\", y=\"trombocyty\")"
   ]
  },
  {
   "cell_type": "code",
   "execution_count": 11,
   "id": "df57b88c",
   "metadata": {},
   "outputs": [
    {
     "data": {
      "text/plain": [
       "<AxesSubplot:xlabel='trombocyty', ylabel='Count'>"
      ]
     },
     "execution_count": 11,
     "metadata": {},
     "output_type": "execute_result"
    },
    {
     "data": {
      "image/png": "[encoded data removed]",
      "text/plain": [
       "<Figure size 432x288 with 1 Axes>"
      ]
     },
     "metadata": {
      "needs_background": "light"
     },
     "output_type": "display_data"
    }
   ],
   "source": [
    "# Bod 3 - testovanie 1.hypotézy\n",
    "df_test = df_labor[df_labor['indicator'] ==1]\n",
    "sns.histplot(df_test['trombocyty'], bins=8)"
   ]
  },
  {
   "cell_type": "code",
   "execution_count": 12,
   "id": "cfea4979",
   "metadata": {},
   "outputs": [
    {
     "name": "stderr",
     "output_type": "stream",
     "text": [
      "C:\\Users\\Anna\\Documents\\GitHub\\2021-2022\\cvicenia\\env\\lib\\site-packages\\pandas\\core\\frame.py:5238: SettingWithCopyWarning: \n",
      "A value is trying to be set on a copy of a slice from a DataFrame\n",
      "\n",
      "See the caveats in the documentation: https://pandas.pydata.org/pandas-docs/stable/user_guide/indexing.html#returning-a-view-versus-a-copy\n",
      "  return super().replace(\n",
      "C:\\Users\\Anna\\Documents\\GitHub\\2021-2022\\cvicenia\\env\\lib\\site-packages\\pandas\\util\\_decorators.py:311: SettingWithCopyWarning: \n",
      "A value is trying to be set on a copy of a slice from a DataFrame\n",
      "\n",
      "See the caveats in the documentation: https://pandas.pydata.org/pandas-docs/stable/user_guide/indexing.html#returning-a-view-versus-a-copy\n",
      "  return func(*args, **kwargs)\n"
     ]
    },
    {
     "data": {
      "image/png": "[encoded data removed]",
      "text/plain": [
       "<Figure size 432x288 with 1 Axes>"
      ]
     },
     "metadata": {
      "needs_background": "light"
     },
     "output_type": "display_data"
    }
   ],
   "source": [
    "# Bod 3 - testovanie 1.hypotézy QQ graf\n",
    "df_test = df_labor[df_labor['indicator']==1]\n",
    "nan_value = float(\"NaN\")\n",
    "\n",
    "df_test.replace(\"\", nan_value, inplace=True)\n",
    "df_test.dropna(subset = [\"trombocyty\"], inplace=True)\n",
    "_ = sm.ProbPlot(df_test['trombocyty'], fit=True).qqplot(line='45')"
   ]
  },
  {
   "cell_type": "code",
   "execution_count": 14,
   "id": "39aa8141",
   "metadata": {},
   "outputs": [
    {
     "name": "stderr",
     "output_type": "stream",
     "text": [
      "C:\\Users\\Anna\\Documents\\GitHub\\2021-2022\\cvicenia\\env\\lib\\site-packages\\pandas\\core\\frame.py:5238: SettingWithCopyWarning: \n",
      "A value is trying to be set on a copy of a slice from a DataFrame\n",
      "\n",
      "See the caveats in the documentation: https://pandas.pydata.org/pandas-docs/stable/user_guide/indexing.html#returning-a-view-versus-a-copy\n",
      "  return super().replace(\n",
      "C:\\Users\\Anna\\Documents\\GitHub\\2021-2022\\cvicenia\\env\\lib\\site-packages\\pandas\\util\\_decorators.py:311: SettingWithCopyWarning: \n",
      "A value is trying to be set on a copy of a slice from a DataFrame\n",
      "\n",
      "See the caveats in the documentation: https://pandas.pydata.org/pandas-docs/stable/user_guide/indexing.html#returning-a-view-versus-a-copy\n",
      "  return func(*args, **kwargs)\n"
     ]
    },
    {
     "data": {
      "image/png": "[encoded data removed]",
      "text/plain": [
       "<Figure size 432x288 with 1 Axes>"
      ]
     },
     "metadata": {
      "needs_background": "light"
     },
     "output_type": "display_data"
    }
   ],
   "source": [
    "# Bod 3 - testovanie 1.hypotézy QQ graf\n",
    "df_test = df_labor[df_labor['indicator']==0]\n",
    "nan_value = float(\"NaN\")\n",
    "\n",
    "df_test.replace(\"\", nan_value, inplace=True)\n",
    "df_test.dropna(subset = [\"trombocyty\"], inplace=True)\n",
    "\n",
    "_ = sm.ProbPlot(df_test['trombocyty'], fit=True).qqplot(line='45')"
   ]
  },
  {
   "cell_type": "code",
   "execution_count": 15,
   "id": "3e63fa8c",
   "metadata": {},
   "outputs": [
    {
     "name": "stderr",
     "output_type": "stream",
     "text": [
      "C:\\Users\\Anna\\Documents\\GitHub\\2021-2022\\cvicenia\\env\\lib\\site-packages\\pandas\\core\\frame.py:5238: SettingWithCopyWarning: \n",
      "A value is trying to be set on a copy of a slice from a DataFrame\n",
      "\n",
      "See the caveats in the documentation: https://pandas.pydata.org/pandas-docs/stable/user_guide/indexing.html#returning-a-view-versus-a-copy\n",
      "  return super().replace(\n",
      "C:\\Users\\Anna\\Documents\\GitHub\\2021-2022\\cvicenia\\env\\lib\\site-packages\\pandas\\util\\_decorators.py:311: SettingWithCopyWarning: \n",
      "A value is trying to be set on a copy of a slice from a DataFrame\n",
      "\n",
      "See the caveats in the documentation: https://pandas.pydata.org/pandas-docs/stable/user_guide/indexing.html#returning-a-view-versus-a-copy\n",
      "  return func(*args, **kwargs)\n",
      "C:\\Users\\Anna\\Documents\\GitHub\\2021-2022\\cvicenia\\env\\lib\\site-packages\\scipy\\stats\\morestats.py:1760: UserWarning: p-value may not be accurate for N > 5000.\n",
      "  warnings.warn(\"p-value may not be accurate for N > 5000.\")\n"
     ]
    },
    {
     "data": {
      "text/plain": [
       "ShapiroResult(statistic=0.9883894324302673, pvalue=1.4620143434368471e-22)"
      ]
     },
     "execution_count": 15,
     "metadata": {},
     "output_type": "execute_result"
    }
   ],
   "source": [
    "# Bod 3 - testovanie 1.hypotézy Shapiro testom\n",
    "df_test = df_labor[df_labor['indicator']==1]\n",
    "nan_value = float(\"NaN\")\n",
    "\n",
    "df_test.replace(\"\", nan_value, inplace=True)\n",
    "df_test.dropna(subset = [\"trombocyty\"], inplace=True)\n",
    "\n",
    "stats.shapiro(df_test[\"trombocyty\"])"
   ]
  },
  {
   "cell_type": "code",
   "execution_count": 18,
   "id": "5b61a87d",
   "metadata": {},
   "outputs": [
    {
     "data": {
      "text/plain": [
       "ShapiroResult(statistic=0.9800799489021301, pvalue=5.054150283087859e-22)"
      ]
     },
     "execution_count": 18,
     "metadata": {},
     "output_type": "execute_result"
    }
   ],
   "source": [
    "# Bod 3 - testovanie hypotézy Shapiro testom\n",
    "df_test = df_labor[df_labor['indicator']==0]\n",
    "nan_value = float(\"NaN\")\n",
    "\n",
    "df_test.replace(\"\", nan_value, inplace=True)\n",
    "df_test.dropna(subset = [\"trombocyty\"], inplace=True)\n",
    "\n",
    "stats.shapiro(df_test[\"trombocyty\"])"
   ]
  },
  {
   "cell_type": "code",
   "execution_count": 20,
   "id": "833bc674",
   "metadata": {},
   "outputs": [
    {
     "data": {
      "text/plain": [
       "0.8006363851114492"
      ]
     },
     "execution_count": 20,
     "metadata": {},
     "output_type": "execute_result"
    }
   ],
   "source": [
    "# Bod 3 - testovanie 1.hypotézy Levenov test\n",
    "def cohen_d(x1, x2):\n",
    "    nx1 = len(x1)\n",
    "    nx2 = len(x2)\n",
    "    s = np.sqrt(((nx1-1) * np.std(x1, ddof=1)**2 + (nx2-1) * np.std(x2, ddof=1)**2) / (nx1 + nx2 - 2))\n",
    "    return (np.abs(np.mean(x1) - np.mean(x2))) / s\n",
    "\n",
    "a_sample = df_labor[df_labor['indicator']==1]\n",
    "na_sample = df_labor[df_labor['indicator']==0]\n",
    "\n",
    "c_d = cohen_d(a_sample[\"trombocyty\"], na_sample[\"trombocyty\"])\n",
    "c_d"
   ]
  },
  {
   "cell_type": "code",
   "execution_count": 22,
   "id": "6a6b3420",
   "metadata": {},
   "outputs": [
    {
     "data": {
      "text/plain": [
       "<AxesSubplot:xlabel='erytrocyty', ylabel='Count'>"
      ]
     },
     "execution_count": 22,
     "metadata": {},
     "output_type": "execute_result"
    },
    {
     "data": {
      "image/png": "[encoded data removed]",
      "text/plain": [
       "<Figure size 432x288 with 1 Axes>"
      ]
     },
     "metadata": {
      "needs_background": "light"
     },
     "output_type": "display_data"
    }
   ],
   "source": [
    "# Bod 3 - testovanie 2.hypotézy\n",
    "df_test = df_labor[df_labor['indicator'] ==1]\n",
    "sns.histplot(df_test['erytrocyty'], bins=8)"
   ]
  },
  {
   "cell_type": "code",
   "execution_count": 24,
   "id": "d849527f",
   "metadata": {},
   "outputs": [
    {
     "name": "stderr",
     "output_type": "stream",
     "text": [
      "C:\\Users\\Anna\\Documents\\GitHub\\2021-2022\\cvicenia\\env\\lib\\site-packages\\pandas\\core\\frame.py:5238: SettingWithCopyWarning: \n",
      "A value is trying to be set on a copy of a slice from a DataFrame\n",
      "\n",
      "See the caveats in the documentation: https://pandas.pydata.org/pandas-docs/stable/user_guide/indexing.html#returning-a-view-versus-a-copy\n",
      "  return super().replace(\n",
      "C:\\Users\\Anna\\Documents\\GitHub\\2021-2022\\cvicenia\\env\\lib\\site-packages\\pandas\\util\\_decorators.py:311: SettingWithCopyWarning: \n",
      "A value is trying to be set on a copy of a slice from a DataFrame\n",
      "\n",
      "See the caveats in the documentation: https://pandas.pydata.org/pandas-docs/stable/user_guide/indexing.html#returning-a-view-versus-a-copy\n",
      "  return func(*args, **kwargs)\n"
     ]
    },
    {
     "data": {
      "image/png": "[encoded data removed]",
      "text/plain": [
       "<Figure size 432x288 with 1 Axes>"
      ]
     },
     "metadata": {
      "needs_background": "light"
     },
     "output_type": "display_data"
    }
   ],
   "source": [
    "# Bod 3 - testovanie 2.hypotézy QQ graf\n",
    "df_test = df_labor[df_labor['indicator']==1]\n",
    "nan_value = float(\"NaN\")\n",
    "\n",
    "df_test.replace(\"\", nan_value, inplace=True)\n",
    "df_test.dropna(subset = [\"erytrocyty\"], inplace=True)\n",
    "_ = sm.ProbPlot(df_test['erytrocyty'], fit=True).qqplot(line='45')"
   ]
  },
  {
   "cell_type": "code",
   "execution_count": 25,
   "id": "33f6c3fa",
   "metadata": {},
   "outputs": [
    {
     "name": "stderr",
     "output_type": "stream",
     "text": [
      "C:\\Users\\Anna\\Documents\\GitHub\\2021-2022\\cvicenia\\env\\lib\\site-packages\\pandas\\core\\frame.py:5238: SettingWithCopyWarning: \n",
      "A value is trying to be set on a copy of a slice from a DataFrame\n",
      "\n",
      "See the caveats in the documentation: https://pandas.pydata.org/pandas-docs/stable/user_guide/indexing.html#returning-a-view-versus-a-copy\n",
      "  return super().replace(\n",
      "C:\\Users\\Anna\\Documents\\GitHub\\2021-2022\\cvicenia\\env\\lib\\site-packages\\pandas\\util\\_decorators.py:311: SettingWithCopyWarning: \n",
      "A value is trying to be set on a copy of a slice from a DataFrame\n",
      "\n",
      "See the caveats in the documentation: https://pandas.pydata.org/pandas-docs/stable/user_guide/indexing.html#returning-a-view-versus-a-copy\n",
      "  return func(*args, **kwargs)\n"
     ]
    },
    {
     "data": {
      "image/png": "[encoded data removed]",
      "text/plain": [
       "<Figure size 432x288 with 1 Axes>"
      ]
     },
     "metadata": {
      "needs_background": "light"
     },
     "output_type": "display_data"
    }
   ],
   "source": [
    "# Bod 3 - testovanie 2.hypotézy QQ graf\n",
    "df_test = df_labor[df_labor['indicator']==0]\n",
    "nan_value = float(\"NaN\")\n",
    "\n",
    "df_test.replace(\"\", nan_value, inplace=True)\n",
    "df_test.dropna(subset = [\"erytrocyty\"], inplace=True)\n",
    "\n",
    "_ = sm.ProbPlot(df_test['erytrocyty'], fit=True).qqplot(line='45')"
   ]
  },
  {
   "cell_type": "code",
   "execution_count": 26,
   "id": "d18f09da",
   "metadata": {},
   "outputs": [
    {
     "name": "stderr",
     "output_type": "stream",
     "text": [
      "C:\\Users\\Anna\\Documents\\GitHub\\2021-2022\\cvicenia\\env\\lib\\site-packages\\pandas\\core\\frame.py:5238: SettingWithCopyWarning: \n",
      "A value is trying to be set on a copy of a slice from a DataFrame\n",
      "\n",
      "See the caveats in the documentation: https://pandas.pydata.org/pandas-docs/stable/user_guide/indexing.html#returning-a-view-versus-a-copy\n",
      "  return super().replace(\n",
      "C:\\Users\\Anna\\Documents\\GitHub\\2021-2022\\cvicenia\\env\\lib\\site-packages\\pandas\\util\\_decorators.py:311: SettingWithCopyWarning: \n",
      "A value is trying to be set on a copy of a slice from a DataFrame\n",
      "\n",
      "See the caveats in the documentation: https://pandas.pydata.org/pandas-docs/stable/user_guide/indexing.html#returning-a-view-versus-a-copy\n",
      "  return func(*args, **kwargs)\n",
      "C:\\Users\\Anna\\Documents\\GitHub\\2021-2022\\cvicenia\\env\\lib\\site-packages\\scipy\\stats\\morestats.py:1760: UserWarning: p-value may not be accurate for N > 5000.\n",
      "  warnings.warn(\"p-value may not be accurate for N > 5000.\")\n"
     ]
    },
    {
     "data": {
      "text/plain": [
       "ShapiroResult(statistic=0.9786615371704102, pvalue=5.823477254877603e-30)"
      ]
     },
     "execution_count": 26,
     "metadata": {},
     "output_type": "execute_result"
    }
   ],
   "source": [
    "# Bod 3 - testovanie 2.hypotézy Shapiro testom\n",
    "df_test = df_labor[df_labor['indicator']==1]\n",
    "\n",
    "nan_value = float(\"NaN\")\n",
    "df_test.replace(\"\", nan_value, inplace=True)\n",
    "df_test.dropna(subset = [\"erytrocyty\"], inplace=True)\n",
    "\n",
    "stats.shapiro(df_test[\"erytrocyty\"])"
   ]
  },
  {
   "cell_type": "code",
   "execution_count": 27,
   "id": "9251a855",
   "metadata": {},
   "outputs": [
    {
     "data": {
      "text/plain": [
       "ShapiroResult(statistic=0.9984318614006042, pvalue=0.0014398895436897874)"
      ]
     },
     "execution_count": 27,
     "metadata": {},
     "output_type": "execute_result"
    }
   ],
   "source": [
    "# Bod 3 - testovanie 2.hypotézy Shapiro testom\n",
    "df_test = df_labor[df_labor['indicator']==0]\n",
    "\n",
    "nan_value = float(\"NaN\")\n",
    "df_test.replace(\"\", nan_value, inplace=True)\n",
    "df_test.dropna(subset = [\"erytrocyty\"], inplace=True)\n",
    "\n",
    "stats.shapiro(df_test[\"erytrocyty\"])"
   ]
  },
  {
   "cell_type": "code",
   "execution_count": 28,
   "id": "3d2778e0",
   "metadata": {},
   "outputs": [
    {
     "data": {
      "text/plain": [
       "0.7858041834328016"
      ]
     },
     "execution_count": 28,
     "metadata": {},
     "output_type": "execute_result"
    }
   ],
   "source": [
    "# Bod 3 - testovanie 2.hypotézy Levenov test\n",
    "def cohen_d(x1, x2):\n",
    "    nx1 = len(x1)\n",
    "    nx2 = len(x2)\n",
    "    s = np.sqrt(((nx1-1) * np.std(x1, ddof=1)**2 + (nx2-1) * np.std(x2, ddof=1)**2) / (nx1 + nx2 - 2))\n",
    "    return (np.abs(np.mean(x1) - np.mean(x2))) / s\n",
    "\n",
    "a_sample = df_labor[df_labor['indicator']==1]\n",
    "na_sample = df_labor[df_labor['indicator']==0]\n",
    "\n",
    "c_d = cohen_d(a_sample[\"erytrocyty\"], na_sample[\"erytrocyty\"])\n",
    "c_d"
   ]
  },
  {
   "cell_type": "code",
   "execution_count": 30,
   "id": "977b8e23",
   "metadata": {},
   "outputs": [
    {
     "data": {
      "text/html": [
       "<div>\n",
       "<style scoped>\n",
       "    .dataframe tbody tr th:only-of-type {\n",
       "        vertical-align: middle;\n",
       "    }\n",
       "\n",
       "    .dataframe tbody tr th {\n",
       "        vertical-align: top;\n",
       "    }\n",
       "\n",
       "    .dataframe thead th {\n",
       "        text-align: right;\n",
       "    }\n",
       "</style>\n",
       "<table border=\"1\" class=\"dataframe\">\n",
       "  <thead>\n",
       "    <tr style=\"text-align: right;\">\n",
       "      <th></th>\n",
       "      <th>hbver</th>\n",
       "      <th>ssn</th>\n",
       "      <th>er-cv</th>\n",
       "      <th>hematokrit</th>\n",
       "      <th>etytr</th>\n",
       "      <th>indicator</th>\n",
       "      <th>name</th>\n",
       "      <th>leukocyty</th>\n",
       "      <th>erytrocyty</th>\n",
       "      <th>smoker</th>\n",
       "      <th>weight</th>\n",
       "      <th>trombocyty</th>\n",
       "      <th>relationship</th>\n",
       "      <th>hemoglobin</th>\n",
       "      <th>alt</th>\n",
       "      <th>ast</th>\n",
       "      <th>alp</th>\n",
       "    </tr>\n",
       "  </thead>\n",
       "  <tbody>\n",
       "    <tr>\n",
       "      <th>0</th>\n",
       "      <td>4.89113</td>\n",
       "      <td>159-78-0958</td>\n",
       "      <td>35.81178</td>\n",
       "      <td>7.15477</td>\n",
       "      <td>6.16679</td>\n",
       "      <td>0.0</td>\n",
       "      <td>Alexander Brown</td>\n",
       "      <td>5.55642</td>\n",
       "      <td>3.12928</td>\n",
       "      <td>Y</td>\n",
       "      <td>132.34095</td>\n",
       "      <td>6.05807</td>\n",
       "      <td>widowed</td>\n",
       "      <td>5.92487</td>\n",
       "      <td>9.17194</td>\n",
       "      <td>59.28478</td>\n",
       "      <td>82.02970</td>\n",
       "    </tr>\n",
       "    <tr>\n",
       "      <th>1</th>\n",
       "      <td>5.03413</td>\n",
       "      <td>317-49-1498</td>\n",
       "      <td>58.69978</td>\n",
       "      <td>7.70810</td>\n",
       "      <td>5.93774</td>\n",
       "      <td>1.0</td>\n",
       "      <td>William Molina</td>\n",
       "      <td>5.09166</td>\n",
       "      <td>7.11909</td>\n",
       "      <td>no</td>\n",
       "      <td>124.26988</td>\n",
       "      <td>6.36438</td>\n",
       "      <td>single</td>\n",
       "      <td>5.94249</td>\n",
       "      <td>11.69650</td>\n",
       "      <td>45.83987</td>\n",
       "      <td>83.19304</td>\n",
       "    </tr>\n",
       "    <tr>\n",
       "      <th>2</th>\n",
       "      <td>4.71736</td>\n",
       "      <td>848-81-8762</td>\n",
       "      <td>61.92180</td>\n",
       "      <td>5.55008</td>\n",
       "      <td>6.10185</td>\n",
       "      <td>1.0</td>\n",
       "      <td>Paula Richardson</td>\n",
       "      <td>3.14271</td>\n",
       "      <td>6.88146</td>\n",
       "      <td>yes</td>\n",
       "      <td>20.37838</td>\n",
       "      <td>8.23852</td>\n",
       "      <td>divoced</td>\n",
       "      <td>5.86043</td>\n",
       "      <td>15.38632</td>\n",
       "      <td>68.50540</td>\n",
       "      <td>76.88515</td>\n",
       "    </tr>\n",
       "    <tr>\n",
       "      <th>3</th>\n",
       "      <td>4.71445</td>\n",
       "      <td>045-41-6015</td>\n",
       "      <td>38.65775</td>\n",
       "      <td>4.25821</td>\n",
       "      <td>7.57766</td>\n",
       "      <td>1.0</td>\n",
       "      <td>Stacey Chen</td>\n",
       "      <td>5.77017</td>\n",
       "      <td>4.38533</td>\n",
       "      <td>no</td>\n",
       "      <td>156.35307</td>\n",
       "      <td>4.26855</td>\n",
       "      <td>divoced</td>\n",
       "      <td>6.10489</td>\n",
       "      <td>8.51677</td>\n",
       "      <td>52.30253</td>\n",
       "      <td>87.88611</td>\n",
       "    </tr>\n",
       "    <tr>\n",
       "      <th>4</th>\n",
       "      <td>6.44980</td>\n",
       "      <td>856-39-5109</td>\n",
       "      <td>51.56507</td>\n",
       "      <td>5.34580</td>\n",
       "      <td>5.64402</td>\n",
       "      <td>0.0</td>\n",
       "      <td>Bailey Jackson</td>\n",
       "      <td>7.12557</td>\n",
       "      <td>5.72449</td>\n",
       "      <td>yes</td>\n",
       "      <td>104.21790</td>\n",
       "      <td>6.52931</td>\n",
       "      <td>divoced</td>\n",
       "      <td>5.00430</td>\n",
       "      <td>8.19195</td>\n",
       "      <td>78.49148</td>\n",
       "      <td>60.20941</td>\n",
       "    </tr>\n",
       "  </tbody>\n",
       "</table>\n",
       "</div>"
      ],
      "text/plain": [
       "     hbver          ssn     er-cv  hematokrit    etytr  indicator  \\\n",
       "0  4.89113  159-78-0958  35.81178     7.15477  6.16679        0.0   \n",
       "1  5.03413  317-49-1498  58.69978     7.70810  5.93774        1.0   \n",
       "2  4.71736  848-81-8762  61.92180     5.55008  6.10185        1.0   \n",
       "3  4.71445  045-41-6015  38.65775     4.25821  7.57766        1.0   \n",
       "4  6.44980  856-39-5109  51.56507     5.34580  5.64402        0.0   \n",
       "\n",
       "               name  leukocyty  erytrocyty smoker     weight  trombocyty  \\\n",
       "0   Alexander Brown    5.55642     3.12928      Y  132.34095     6.05807   \n",
       "1    William Molina    5.09166     7.11909     no  124.26988     6.36438   \n",
       "2  Paula Richardson    3.14271     6.88146    yes   20.37838     8.23852   \n",
       "3       Stacey Chen    5.77017     4.38533     no  156.35307     4.26855   \n",
       "4    Bailey Jackson    7.12557     5.72449    yes  104.21790     6.52931   \n",
       "\n",
       "  relationship  hemoglobin       alt       ast       alp  \n",
       "0      widowed     5.92487   9.17194  59.28478  82.02970  \n",
       "1       single     5.94249  11.69650  45.83987  83.19304  \n",
       "2      divoced     5.86043  15.38632  68.50540  76.88515  \n",
       "3      divoced     6.10489   8.51677  52.30253  87.88611  \n",
       "4      divoced     5.00430   8.19195  78.49148  60.20941  "
      ]
     },
     "execution_count": 30,
     "metadata": {},
     "output_type": "execute_result"
    }
   ],
   "source": [
    "# Bod 4\n",
    "# váha mala záporné hodnoty, pomocou absolútnej hodnoty sme ich zmenili na kladné\n",
    "df_labor['weight'].where(df_labor['weight'] < 0).count()      # počet zlých údajov váhy (254)\n",
    "df_labor['weight'] = df_labor['weight'].abs()              # všetky hodnoty v stĺpci budú v absolútnej hodnote\n",
    "df_labor['weight'].where(df_labor['weight'] < 0).count()      # nový počet záporných údajov (0)\n",
    "df_labor.head()"
   ]
  },
  {
   "cell_type": "code",
   "execution_count": 31,
   "id": "029f7796",
   "metadata": {},
   "outputs": [
    {
     "data": {
      "text/html": [
       "<div>\n",
       "<style scoped>\n",
       "    .dataframe tbody tr th:only-of-type {\n",
       "        vertical-align: middle;\n",
       "    }\n",
       "\n",
       "    .dataframe tbody tr th {\n",
       "        vertical-align: top;\n",
       "    }\n",
       "\n",
       "    .dataframe thead th {\n",
       "        text-align: right;\n",
       "    }\n",
       "</style>\n",
       "<table border=\"1\" class=\"dataframe\">\n",
       "  <thead>\n",
       "    <tr style=\"text-align: right;\">\n",
       "      <th></th>\n",
       "      <th>hbver</th>\n",
       "      <th>ssn</th>\n",
       "      <th>er-cv</th>\n",
       "      <th>hematokrit</th>\n",
       "      <th>etytr</th>\n",
       "      <th>indicator</th>\n",
       "      <th>name</th>\n",
       "      <th>leukocyty</th>\n",
       "      <th>erytrocyty</th>\n",
       "      <th>smoker</th>\n",
       "      <th>weight</th>\n",
       "      <th>trombocyty</th>\n",
       "      <th>relationship</th>\n",
       "      <th>hemoglobin</th>\n",
       "      <th>alt</th>\n",
       "      <th>ast</th>\n",
       "      <th>alp</th>\n",
       "    </tr>\n",
       "  </thead>\n",
       "  <tbody>\n",
       "    <tr>\n",
       "      <th>0</th>\n",
       "      <td>4.89113</td>\n",
       "      <td>159-78-0958</td>\n",
       "      <td>35.81178</td>\n",
       "      <td>7.15477</td>\n",
       "      <td>6.16679</td>\n",
       "      <td>0.0</td>\n",
       "      <td>Alexander Brown</td>\n",
       "      <td>5.55642</td>\n",
       "      <td>3.12928</td>\n",
       "      <td>yes</td>\n",
       "      <td>132.34095</td>\n",
       "      <td>6.05807</td>\n",
       "      <td>widowed</td>\n",
       "      <td>5.92487</td>\n",
       "      <td>9.17194</td>\n",
       "      <td>59.28478</td>\n",
       "      <td>82.02970</td>\n",
       "    </tr>\n",
       "    <tr>\n",
       "      <th>1</th>\n",
       "      <td>5.03413</td>\n",
       "      <td>317-49-1498</td>\n",
       "      <td>58.69978</td>\n",
       "      <td>7.70810</td>\n",
       "      <td>5.93774</td>\n",
       "      <td>1.0</td>\n",
       "      <td>William Molina</td>\n",
       "      <td>5.09166</td>\n",
       "      <td>7.11909</td>\n",
       "      <td>no</td>\n",
       "      <td>124.26988</td>\n",
       "      <td>6.36438</td>\n",
       "      <td>single</td>\n",
       "      <td>5.94249</td>\n",
       "      <td>11.69650</td>\n",
       "      <td>45.83987</td>\n",
       "      <td>83.19304</td>\n",
       "    </tr>\n",
       "    <tr>\n",
       "      <th>2</th>\n",
       "      <td>4.71736</td>\n",
       "      <td>848-81-8762</td>\n",
       "      <td>61.92180</td>\n",
       "      <td>5.55008</td>\n",
       "      <td>6.10185</td>\n",
       "      <td>1.0</td>\n",
       "      <td>Paula Richardson</td>\n",
       "      <td>3.14271</td>\n",
       "      <td>6.88146</td>\n",
       "      <td>yes</td>\n",
       "      <td>20.37838</td>\n",
       "      <td>8.23852</td>\n",
       "      <td>divoced</td>\n",
       "      <td>5.86043</td>\n",
       "      <td>15.38632</td>\n",
       "      <td>68.50540</td>\n",
       "      <td>76.88515</td>\n",
       "    </tr>\n",
       "    <tr>\n",
       "      <th>3</th>\n",
       "      <td>4.71445</td>\n",
       "      <td>045-41-6015</td>\n",
       "      <td>38.65775</td>\n",
       "      <td>4.25821</td>\n",
       "      <td>7.57766</td>\n",
       "      <td>1.0</td>\n",
       "      <td>Stacey Chen</td>\n",
       "      <td>5.77017</td>\n",
       "      <td>4.38533</td>\n",
       "      <td>no</td>\n",
       "      <td>156.35307</td>\n",
       "      <td>4.26855</td>\n",
       "      <td>divoced</td>\n",
       "      <td>6.10489</td>\n",
       "      <td>8.51677</td>\n",
       "      <td>52.30253</td>\n",
       "      <td>87.88611</td>\n",
       "    </tr>\n",
       "    <tr>\n",
       "      <th>4</th>\n",
       "      <td>6.44980</td>\n",
       "      <td>856-39-5109</td>\n",
       "      <td>51.56507</td>\n",
       "      <td>5.34580</td>\n",
       "      <td>5.64402</td>\n",
       "      <td>0.0</td>\n",
       "      <td>Bailey Jackson</td>\n",
       "      <td>7.12557</td>\n",
       "      <td>5.72449</td>\n",
       "      <td>yes</td>\n",
       "      <td>104.21790</td>\n",
       "      <td>6.52931</td>\n",
       "      <td>divoced</td>\n",
       "      <td>5.00430</td>\n",
       "      <td>8.19195</td>\n",
       "      <td>78.49148</td>\n",
       "      <td>60.20941</td>\n",
       "    </tr>\n",
       "  </tbody>\n",
       "</table>\n",
       "</div>"
      ],
      "text/plain": [
       "     hbver          ssn     er-cv  hematokrit    etytr  indicator  \\\n",
       "0  4.89113  159-78-0958  35.81178     7.15477  6.16679        0.0   \n",
       "1  5.03413  317-49-1498  58.69978     7.70810  5.93774        1.0   \n",
       "2  4.71736  848-81-8762  61.92180     5.55008  6.10185        1.0   \n",
       "3  4.71445  045-41-6015  38.65775     4.25821  7.57766        1.0   \n",
       "4  6.44980  856-39-5109  51.56507     5.34580  5.64402        0.0   \n",
       "\n",
       "               name  leukocyty  erytrocyty smoker     weight  trombocyty  \\\n",
       "0   Alexander Brown    5.55642     3.12928    yes  132.34095     6.05807   \n",
       "1    William Molina    5.09166     7.11909     no  124.26988     6.36438   \n",
       "2  Paula Richardson    3.14271     6.88146    yes   20.37838     8.23852   \n",
       "3       Stacey Chen    5.77017     4.38533     no  156.35307     4.26855   \n",
       "4    Bailey Jackson    7.12557     5.72449    yes  104.21790     6.52931   \n",
       "\n",
       "  relationship  hemoglobin       alt       ast       alp  \n",
       "0      widowed     5.92487   9.17194  59.28478  82.02970  \n",
       "1       single     5.94249  11.69650  45.83987  83.19304  \n",
       "2      divoced     5.86043  15.38632  68.50540  76.88515  \n",
       "3      divoced     6.10489   8.51677  52.30253  87.88611  \n",
       "4      divoced     5.00430   8.19195  78.49148  60.20941  "
      ]
     },
     "execution_count": 31,
     "metadata": {},
     "output_type": "execute_result"
    }
   ],
   "source": [
    "# Bod 4\n",
    "# údaje o fajčiaroch mali nejednotný formát, Y a N sme nahrali, aby nám ostali iba yes a no\n",
    "df_labor['smoker'].unique()                                         # nejednotny format \n",
    "df_labor['smoker'].replace({\"Y\": \"yes\", \"N\": \"no\"}, inplace=True)   # nahradenie Y = yes, N = no\n",
    "df_labor['smoker'].unique()                                         # formát je už po novom iba yes a no\n",
    "df_labor.head()"
   ]
  },
  {
   "cell_type": "code",
   "execution_count": 32,
   "id": "2f9170ed",
   "metadata": {},
   "outputs": [
    {
     "data": {
      "text/html": [
       "<div>\n",
       "<style scoped>\n",
       "    .dataframe tbody tr th:only-of-type {\n",
       "        vertical-align: middle;\n",
       "    }\n",
       "\n",
       "    .dataframe tbody tr th {\n",
       "        vertical-align: top;\n",
       "    }\n",
       "\n",
       "    .dataframe thead th {\n",
       "        text-align: right;\n",
       "    }\n",
       "</style>\n",
       "<table border=\"1\" class=\"dataframe\">\n",
       "  <thead>\n",
       "    <tr style=\"text-align: right;\">\n",
       "      <th></th>\n",
       "      <th>hbver</th>\n",
       "      <th>ssn</th>\n",
       "      <th>er-cv</th>\n",
       "      <th>hematokrit</th>\n",
       "      <th>etytr</th>\n",
       "      <th>indicator</th>\n",
       "      <th>name</th>\n",
       "      <th>leukocyty</th>\n",
       "      <th>erytrocyty</th>\n",
       "      <th>smoker</th>\n",
       "      <th>weight</th>\n",
       "      <th>trombocyty</th>\n",
       "      <th>relationship</th>\n",
       "      <th>hemoglobin</th>\n",
       "      <th>alt</th>\n",
       "      <th>ast</th>\n",
       "      <th>alp</th>\n",
       "    </tr>\n",
       "  </thead>\n",
       "  <tbody>\n",
       "    <tr>\n",
       "      <th>0</th>\n",
       "      <td>4.89113</td>\n",
       "      <td>159-78-0958</td>\n",
       "      <td>35.81178</td>\n",
       "      <td>7.15477</td>\n",
       "      <td>6.16679</td>\n",
       "      <td>0.0</td>\n",
       "      <td>Alexander Brown</td>\n",
       "      <td>5.55642</td>\n",
       "      <td>3.12928</td>\n",
       "      <td>yes</td>\n",
       "      <td>132.34095</td>\n",
       "      <td>6.05807</td>\n",
       "      <td>widowed</td>\n",
       "      <td>5.92487</td>\n",
       "      <td>9.17194</td>\n",
       "      <td>59.28478</td>\n",
       "      <td>82.02970</td>\n",
       "    </tr>\n",
       "    <tr>\n",
       "      <th>1</th>\n",
       "      <td>5.03413</td>\n",
       "      <td>317-49-1498</td>\n",
       "      <td>58.69978</td>\n",
       "      <td>7.70810</td>\n",
       "      <td>5.93774</td>\n",
       "      <td>1.0</td>\n",
       "      <td>William Molina</td>\n",
       "      <td>5.09166</td>\n",
       "      <td>7.11909</td>\n",
       "      <td>no</td>\n",
       "      <td>124.26988</td>\n",
       "      <td>6.36438</td>\n",
       "      <td>single</td>\n",
       "      <td>5.94249</td>\n",
       "      <td>11.69650</td>\n",
       "      <td>45.83987</td>\n",
       "      <td>83.19304</td>\n",
       "    </tr>\n",
       "    <tr>\n",
       "      <th>2</th>\n",
       "      <td>4.71736</td>\n",
       "      <td>848-81-8762</td>\n",
       "      <td>61.92180</td>\n",
       "      <td>5.55008</td>\n",
       "      <td>6.10185</td>\n",
       "      <td>1.0</td>\n",
       "      <td>Paula Richardson</td>\n",
       "      <td>3.14271</td>\n",
       "      <td>6.88146</td>\n",
       "      <td>yes</td>\n",
       "      <td>20.37838</td>\n",
       "      <td>8.23852</td>\n",
       "      <td>divorced</td>\n",
       "      <td>5.86043</td>\n",
       "      <td>15.38632</td>\n",
       "      <td>68.50540</td>\n",
       "      <td>76.88515</td>\n",
       "    </tr>\n",
       "    <tr>\n",
       "      <th>3</th>\n",
       "      <td>4.71445</td>\n",
       "      <td>045-41-6015</td>\n",
       "      <td>38.65775</td>\n",
       "      <td>4.25821</td>\n",
       "      <td>7.57766</td>\n",
       "      <td>1.0</td>\n",
       "      <td>Stacey Chen</td>\n",
       "      <td>5.77017</td>\n",
       "      <td>4.38533</td>\n",
       "      <td>no</td>\n",
       "      <td>156.35307</td>\n",
       "      <td>4.26855</td>\n",
       "      <td>divorced</td>\n",
       "      <td>6.10489</td>\n",
       "      <td>8.51677</td>\n",
       "      <td>52.30253</td>\n",
       "      <td>87.88611</td>\n",
       "    </tr>\n",
       "    <tr>\n",
       "      <th>4</th>\n",
       "      <td>6.44980</td>\n",
       "      <td>856-39-5109</td>\n",
       "      <td>51.56507</td>\n",
       "      <td>5.34580</td>\n",
       "      <td>5.64402</td>\n",
       "      <td>0.0</td>\n",
       "      <td>Bailey Jackson</td>\n",
       "      <td>7.12557</td>\n",
       "      <td>5.72449</td>\n",
       "      <td>yes</td>\n",
       "      <td>104.21790</td>\n",
       "      <td>6.52931</td>\n",
       "      <td>divorced</td>\n",
       "      <td>5.00430</td>\n",
       "      <td>8.19195</td>\n",
       "      <td>78.49148</td>\n",
       "      <td>60.20941</td>\n",
       "    </tr>\n",
       "  </tbody>\n",
       "</table>\n",
       "</div>"
      ],
      "text/plain": [
       "     hbver          ssn     er-cv  hematokrit    etytr  indicator  \\\n",
       "0  4.89113  159-78-0958  35.81178     7.15477  6.16679        0.0   \n",
       "1  5.03413  317-49-1498  58.69978     7.70810  5.93774        1.0   \n",
       "2  4.71736  848-81-8762  61.92180     5.55008  6.10185        1.0   \n",
       "3  4.71445  045-41-6015  38.65775     4.25821  7.57766        1.0   \n",
       "4  6.44980  856-39-5109  51.56507     5.34580  5.64402        0.0   \n",
       "\n",
       "               name  leukocyty  erytrocyty smoker     weight  trombocyty  \\\n",
       "0   Alexander Brown    5.55642     3.12928    yes  132.34095     6.05807   \n",
       "1    William Molina    5.09166     7.11909     no  124.26988     6.36438   \n",
       "2  Paula Richardson    3.14271     6.88146    yes   20.37838     8.23852   \n",
       "3       Stacey Chen    5.77017     4.38533     no  156.35307     4.26855   \n",
       "4    Bailey Jackson    7.12557     5.72449    yes  104.21790     6.52931   \n",
       "\n",
       "  relationship  hemoglobin       alt       ast       alp  \n",
       "0      widowed     5.92487   9.17194  59.28478  82.02970  \n",
       "1       single     5.94249  11.69650  45.83987  83.19304  \n",
       "2     divorced     5.86043  15.38632  68.50540  76.88515  \n",
       "3     divorced     6.10489   8.51677  52.30253  87.88611  \n",
       "4     divorced     5.00430   8.19195  78.49148  60.20941  "
      ]
     },
     "execution_count": 32,
     "metadata": {},
     "output_type": "execute_result"
    }
   ],
   "source": [
    "# Bod 4\n",
    "# údaje o vzťahoch mali chybu, divoced sme nahradili divorced\n",
    "df_labor['relationship'].unique()                                         # gramatická chyba v slove divorced chýba r\n",
    "df_labor['relationship'].replace({\"divoced\": \"divorced\"}, inplace=True)   # nahradenie divoced = divorced\n",
    "df_labor['relationship'].unique()\n",
    "df_labor.head()"
   ]
  },
  {
   "cell_type": "code",
   "execution_count": 34,
   "id": "337d04be",
   "metadata": {},
   "outputs": [
    {
     "data": {
      "text/plain": [
       "335"
      ]
     },
     "execution_count": 34,
     "metadata": {},
     "output_type": "execute_result"
    }
   ],
   "source": [
    "# Bod 4\n",
    "# údaje o vzťahoch mali chybu, divoced sme nahradili divorced\n",
    "df_labor.shape[0] - df_labor.dropna().shape[0]              # nájdenie prázdnych políčok"
   ]
  },
  {
   "cell_type": "code",
   "execution_count": 38,
   "id": "16217330",
   "metadata": {},
   "outputs": [
    {
     "data": {
      "text/html": [
       "<div>\n",
       "<style scoped>\n",
       "    .dataframe tbody tr th:only-of-type {\n",
       "        vertical-align: middle;\n",
       "    }\n",
       "\n",
       "    .dataframe tbody tr th {\n",
       "        vertical-align: top;\n",
       "    }\n",
       "\n",
       "    .dataframe thead th {\n",
       "        text-align: right;\n",
       "    }\n",
       "</style>\n",
       "<table border=\"1\" class=\"dataframe\">\n",
       "  <thead>\n",
       "    <tr style=\"text-align: right;\">\n",
       "      <th></th>\n",
       "      <th>blood_group</th>\n",
       "      <th>name</th>\n",
       "      <th>race</th>\n",
       "      <th>job</th>\n",
       "      <th>residence</th>\n",
       "      <th>birthdate</th>\n",
       "      <th>current_location</th>\n",
       "      <th>ssn</th>\n",
       "      <th>sex</th>\n",
       "    </tr>\n",
       "  </thead>\n",
       "  <tbody>\n",
       "  </tbody>\n",
       "</table>\n",
       "</div>"
      ],
      "text/plain": [
       "Empty DataFrame\n",
       "Columns: [blood_group, name, race, job, residence, birthdate, current_location, ssn, sex]\n",
       "Index: []"
      ]
     },
     "execution_count": 38,
     "metadata": {},
     "output_type": "execute_result"
    }
   ],
   "source": [
    "# Bod 4\n",
    "# duplikáty sme našli podľa ssn, nechali sme si prvý záznam ssn a ostatné sme zmazali\n",
    "df_labor[df_labor['ssn'].duplicated() == True]          # duplikátni ľudia podľa SSN\n",
    "df_profiles[df_profiles['ssn'].duplicated() == True]    #ziadne duplikaty "
   ]
  },
  {
   "cell_type": "code",
   "execution_count": 40,
   "id": "9ab1504d",
   "metadata": {},
   "outputs": [
    {
     "data": {
      "text/plain": [
       "array(['White', 'Hawaiian', 'Indian', 'Black', 'Asian'], dtype=object)"
      ]
     },
     "execution_count": 40,
     "metadata": {},
     "output_type": "execute_result"
    }
   ],
   "source": [
    "# Bod 4\n",
    "# údaje o rase mali nejednotný formát\n",
    "df_profiles['race'].unique()                                                                       # nejednotny format \n",
    "df_profiles['race'].replace({\"white\": \"White\", \"blsck\": \"Black\", \"black\": \"Black\"}, inplace=True)  # nahradenie\n",
    "df_profiles['race'].unique()  "
   ]
  },
  {
   "cell_type": "code",
   "execution_count": 41,
   "id": "aa8ef585",
   "metadata": {},
   "outputs": [
    {
     "data": {
      "text/plain": [
       "array(['1992/06/21', '21 Aug 2012', '03 Apr 2009', ..., '1913/06/29',\n",
       "       '1991/01/15', '1934/12/04'], dtype=object)"
      ]
     },
     "execution_count": 41,
     "metadata": {},
     "output_type": "execute_result"
    }
   ],
   "source": [
    "# Bod 4\n",
    "df_profiles['birthdate'].unique() # nejednotny format datumov v tabulke profiles"
   ]
  },
  {
   "cell_type": "code",
   "execution_count": 5,
   "id": "0f154a7b",
   "metadata": {},
   "outputs": [
    {
     "data": {
      "text/html": [
       "<div>\n",
       "<style scoped>\n",
       "    .dataframe tbody tr th:only-of-type {\n",
       "        vertical-align: middle;\n",
       "    }\n",
       "\n",
       "    .dataframe tbody tr th {\n",
       "        vertical-align: top;\n",
       "    }\n",
       "\n",
       "    .dataframe thead th {\n",
       "        text-align: right;\n",
       "    }\n",
       "</style>\n",
       "<table border=\"1\" class=\"dataframe\">\n",
       "  <thead>\n",
       "    <tr style=\"text-align: right;\">\n",
       "      <th></th>\n",
       "      <th>blood_group</th>\n",
       "      <th>name</th>\n",
       "      <th>race</th>\n",
       "      <th>job</th>\n",
       "      <th>residence</th>\n",
       "      <th>birthdate</th>\n",
       "      <th>current_location</th>\n",
       "      <th>ssn</th>\n",
       "      <th>sex</th>\n",
       "    </tr>\n",
       "  </thead>\n",
       "  <tbody>\n",
       "    <tr>\n",
       "      <th>0</th>\n",
       "      <td>A+</td>\n",
       "      <td>Robert Johnson</td>\n",
       "      <td>White</td>\n",
       "      <td>Chartered management accountant</td>\n",
       "      <td>046 Henderson Place\\nNorth Kenneth, LA 18909</td>\n",
       "      <td>1992-06-21</td>\n",
       "      <td>(Decimal('-74.632626'), Decimal('61.437006'))</td>\n",
       "      <td>111-66-4780</td>\n",
       "      <td>M</td>\n",
       "    </tr>\n",
       "    <tr>\n",
       "      <th>1</th>\n",
       "      <td>O-</td>\n",
       "      <td>Billy Brown</td>\n",
       "      <td>Hawaiian</td>\n",
       "      <td>Designer, furniture</td>\n",
       "      <td>5168 Craig Crossing\\nNorth Danielbury, OK 44116</td>\n",
       "      <td>2012-08-21</td>\n",
       "      <td>(Decimal('44.5509005'), Decimal('159.093037'))</td>\n",
       "      <td>715-26-6538</td>\n",
       "      <td>M</td>\n",
       "    </tr>\n",
       "    <tr>\n",
       "      <th>2</th>\n",
       "      <td>B+</td>\n",
       "      <td>William Evans</td>\n",
       "      <td>White</td>\n",
       "      <td>Occupational psychologist</td>\n",
       "      <td>1102 Crystal Path\\nPort Janiceberg, VA 52575</td>\n",
       "      <td>2009-04-03</td>\n",
       "      <td>(Decimal('-42.592953'), Decimal('9.116989'))</td>\n",
       "      <td>880-21-4333</td>\n",
       "      <td>M</td>\n",
       "    </tr>\n",
       "    <tr>\n",
       "      <th>3</th>\n",
       "      <td>AB+</td>\n",
       "      <td>Mark Anderson</td>\n",
       "      <td>White</td>\n",
       "      <td>Leisure centre manager</td>\n",
       "      <td>0345 Christensen Burg\\nEast Angelaburgh, MN 32243</td>\n",
       "      <td>1968-10-14</td>\n",
       "      <td>(Decimal('-72.110798'), Decimal('37.607451'))</td>\n",
       "      <td>452-97-8425</td>\n",
       "      <td>M</td>\n",
       "    </tr>\n",
       "    <tr>\n",
       "      <th>4</th>\n",
       "      <td>O+</td>\n",
       "      <td>Ashley Archer</td>\n",
       "      <td>Indian</td>\n",
       "      <td>Animal technologist</td>\n",
       "      <td>351 Margaret Hollow Suite 435\\nLake John, TX 9...</td>\n",
       "      <td>1950-07-01</td>\n",
       "      <td>(Decimal('-82.533703'), Decimal('126.463182'))</td>\n",
       "      <td>084-71-0177</td>\n",
       "      <td>F</td>\n",
       "    </tr>\n",
       "    <tr>\n",
       "      <th>...</th>\n",
       "      <td>...</td>\n",
       "      <td>...</td>\n",
       "      <td>...</td>\n",
       "      <td>...</td>\n",
       "      <td>...</td>\n",
       "      <td>...</td>\n",
       "      <td>...</td>\n",
       "      <td>...</td>\n",
       "      <td>...</td>\n",
       "    </tr>\n",
       "    <tr>\n",
       "      <th>3066</th>\n",
       "      <td>AB+</td>\n",
       "      <td>Matthew Wells</td>\n",
       "      <td>White</td>\n",
       "      <td>Doctor, hospital</td>\n",
       "      <td>94655 Pham Plaza\\nLake Michelle, CA 13327</td>\n",
       "      <td>1962-02-16</td>\n",
       "      <td>(Decimal('-35.1440845'), Decimal('-81.001847'))</td>\n",
       "      <td>758-39-9185</td>\n",
       "      <td>M</td>\n",
       "    </tr>\n",
       "    <tr>\n",
       "      <th>3067</th>\n",
       "      <td>A-</td>\n",
       "      <td>Scott Johnson</td>\n",
       "      <td>White</td>\n",
       "      <td>Scientist, marine</td>\n",
       "      <td>USNS Daniel\\nFPO AP 81211</td>\n",
       "      <td>1962-10-26</td>\n",
       "      <td>(Decimal('21.1746695'), Decimal('40.825483'))</td>\n",
       "      <td>734-08-3664</td>\n",
       "      <td>M</td>\n",
       "    </tr>\n",
       "    <tr>\n",
       "      <th>3068</th>\n",
       "      <td>O+</td>\n",
       "      <td>Mark Brewer</td>\n",
       "      <td>White</td>\n",
       "      <td>Engineer, petroleum</td>\n",
       "      <td>81515 Barnes Turnpike\\nPamelashire, CT 39870</td>\n",
       "      <td>1913-06-29</td>\n",
       "      <td>(Decimal('27.397744'), Decimal('72.045727'))</td>\n",
       "      <td>863-77-5143</td>\n",
       "      <td>M</td>\n",
       "    </tr>\n",
       "    <tr>\n",
       "      <th>3069</th>\n",
       "      <td>O-</td>\n",
       "      <td>Sally Ramirez</td>\n",
       "      <td>Black</td>\n",
       "      <td>Private music teacher</td>\n",
       "      <td>849 Flynn Rapids\\nPort Zacharyton, OK 90482</td>\n",
       "      <td>1991-01-15</td>\n",
       "      <td>(Decimal('32.3213215'), Decimal('-37.111459'))</td>\n",
       "      <td>464-82-1651</td>\n",
       "      <td>F</td>\n",
       "    </tr>\n",
       "    <tr>\n",
       "      <th>3070</th>\n",
       "      <td>O+</td>\n",
       "      <td>Alyssa Lee</td>\n",
       "      <td>Hawaiian</td>\n",
       "      <td>Barrister</td>\n",
       "      <td>4745 Bright Ford Suite 108\\nLake Travis, MT 21743</td>\n",
       "      <td>1934-12-04</td>\n",
       "      <td>(Decimal('-10.9320945'), Decimal('-57.432835'))</td>\n",
       "      <td>590-70-7671</td>\n",
       "      <td>F</td>\n",
       "    </tr>\n",
       "  </tbody>\n",
       "</table>\n",
       "<p>3071 rows × 9 columns</p>\n",
       "</div>"
      ],
      "text/plain": [
       "     blood_group            name      race                              job  \\\n",
       "0             A+  Robert Johnson     White  Chartered management accountant   \n",
       "1             O-     Billy Brown  Hawaiian              Designer, furniture   \n",
       "2             B+   William Evans     White        Occupational psychologist   \n",
       "3            AB+   Mark Anderson     White           Leisure centre manager   \n",
       "4             O+   Ashley Archer    Indian              Animal technologist   \n",
       "...          ...             ...       ...                              ...   \n",
       "3066         AB+   Matthew Wells     White                 Doctor, hospital   \n",
       "3067          A-   Scott Johnson     White                Scientist, marine   \n",
       "3068          O+     Mark Brewer     White              Engineer, petroleum   \n",
       "3069          O-   Sally Ramirez     Black            Private music teacher   \n",
       "3070          O+      Alyssa Lee  Hawaiian                        Barrister   \n",
       "\n",
       "                                              residence  birthdate  \\\n",
       "0          046 Henderson Place\\nNorth Kenneth, LA 18909 1992-06-21   \n",
       "1       5168 Craig Crossing\\nNorth Danielbury, OK 44116 2012-08-21   \n",
       "2          1102 Crystal Path\\nPort Janiceberg, VA 52575 2009-04-03   \n",
       "3     0345 Christensen Burg\\nEast Angelaburgh, MN 32243 1968-10-14   \n",
       "4     351 Margaret Hollow Suite 435\\nLake John, TX 9... 1950-07-01   \n",
       "...                                                 ...        ...   \n",
       "3066          94655 Pham Plaza\\nLake Michelle, CA 13327 1962-02-16   \n",
       "3067                          USNS Daniel\\nFPO AP 81211 1962-10-26   \n",
       "3068       81515 Barnes Turnpike\\nPamelashire, CT 39870 1913-06-29   \n",
       "3069        849 Flynn Rapids\\nPort Zacharyton, OK 90482 1991-01-15   \n",
       "3070  4745 Bright Ford Suite 108\\nLake Travis, MT 21743 1934-12-04   \n",
       "\n",
       "                                     current_location          ssn sex  \n",
       "0       (Decimal('-74.632626'), Decimal('61.437006'))  111-66-4780   M  \n",
       "1      (Decimal('44.5509005'), Decimal('159.093037'))  715-26-6538   M  \n",
       "2        (Decimal('-42.592953'), Decimal('9.116989'))  880-21-4333   M  \n",
       "3       (Decimal('-72.110798'), Decimal('37.607451'))  452-97-8425   M  \n",
       "4      (Decimal('-82.533703'), Decimal('126.463182'))  084-71-0177   F  \n",
       "...                                               ...          ...  ..  \n",
       "3066  (Decimal('-35.1440845'), Decimal('-81.001847'))  758-39-9185   M  \n",
       "3067    (Decimal('21.1746695'), Decimal('40.825483'))  734-08-3664   M  \n",
       "3068     (Decimal('27.397744'), Decimal('72.045727'))  863-77-5143   M  \n",
       "3069   (Decimal('32.3213215'), Decimal('-37.111459'))  464-82-1651   F  \n",
       "3070  (Decimal('-10.9320945'), Decimal('-57.432835'))  590-70-7671   F  \n",
       "\n",
       "[3071 rows x 9 columns]"
      ]
     },
     "execution_count": 5,
     "metadata": {},
     "output_type": "execute_result"
    }
   ],
   "source": [
    "# Bod 4\n",
    "df_profiles['birthdate'] = pd.to_datetime(df_profiles['birthdate']) # nahradenie do jednotného formátu rok-mesiac-deň\n",
    "df_profiles"
   ]
  },
  {
   "cell_type": "code",
   "execution_count": null,
   "id": "5d491274",
   "metadata": {},
   "outputs": [],
   "source": []
  }
 ],
 "metadata": {
  "kernelspec": {
   "display_name": "Python 3 (ipykernel)",
   "language": "python",
   "name": "python3"
  },
  "language_info": {
   "codemirror_mode": {
    "name": "ipython",
    "version": 3
   },
   "file_extension": ".py",
   "mimetype": "text/x-python",
   "name": "python",
   "nbconvert_exporter": "python",
   "pygments_lexer": "ipython3",
   "version": "3.9.7"
  }
 },
 "nbformat": 4,
 "nbformat_minor": 5
}
